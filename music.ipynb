{
 "cells": [
  {
   "cell_type": "code",
   "execution_count": 83,
   "id": "f270c21f-8747-4c56-b0b0-9dae81a37a72",
   "metadata": {},
   "outputs": [],
   "source": [
    "import pandas as pd\n",
    "import numpy as np\n",
    "import matplotlib.pyplot as plt\n",
    "import seaborn as sns"
   ]
  },
  {
   "cell_type": "code",
   "execution_count": 84,
   "id": "3a15b2c8-bf74-4d8c-be15-a6766fe2c687",
   "metadata": {},
   "outputs": [
    {
     "data": {
      "text/html": [
       "<div>\n",
       "<style scoped>\n",
       "    .dataframe tbody tr th:only-of-type {\n",
       "        vertical-align: middle;\n",
       "    }\n",
       "\n",
       "    .dataframe tbody tr th {\n",
       "        vertical-align: top;\n",
       "    }\n",
       "\n",
       "    .dataframe thead th {\n",
       "        text-align: right;\n",
       "    }\n",
       "</style>\n",
       "<table border=\"1\" class=\"dataframe\">\n",
       "  <thead>\n",
       "    <tr style=\"text-align: right;\">\n",
       "      <th></th>\n",
       "      <th>Rank</th>\n",
       "      <th>Peak</th>\n",
       "      <th>All Time Peak</th>\n",
       "      <th>Actual Gross</th>\n",
       "      <th>Adjusted_actual_gross</th>\n",
       "      <th>Artist</th>\n",
       "      <th>Tour title</th>\n",
       "      <th>Year(s)</th>\n",
       "      <th>Shows</th>\n",
       "      <th>Average gross</th>\n",
       "      <th>Ref.</th>\n",
       "    </tr>\n",
       "  </thead>\n",
       "  <tbody>\n",
       "    <tr>\n",
       "      <th>0</th>\n",
       "      <td>1</td>\n",
       "      <td>1</td>\n",
       "      <td>2</td>\n",
       "      <td>$780,000,000</td>\n",
       "      <td>$780,000,000</td>\n",
       "      <td>Taylor Swift</td>\n",
       "      <td>The Eras Tour †</td>\n",
       "      <td>2023–2024</td>\n",
       "      <td>56</td>\n",
       "      <td>$13,928,571</td>\n",
       "      <td>[1]</td>\n",
       "    </tr>\n",
       "    <tr>\n",
       "      <th>1</th>\n",
       "      <td>2</td>\n",
       "      <td>1</td>\n",
       "      <td>7[2]</td>\n",
       "      <td>$579,800,000</td>\n",
       "      <td>$579,800,000</td>\n",
       "      <td>Beyoncé</td>\n",
       "      <td>Renaissance World Tour</td>\n",
       "      <td>2023</td>\n",
       "      <td>56</td>\n",
       "      <td>$10,353,571</td>\n",
       "      <td>[3]</td>\n",
       "    </tr>\n",
       "    <tr>\n",
       "      <th>2</th>\n",
       "      <td>3</td>\n",
       "      <td>1[4]</td>\n",
       "      <td>2[5]</td>\n",
       "      <td>$411,000,000</td>\n",
       "      <td>$560,622,615</td>\n",
       "      <td>Madonna</td>\n",
       "      <td>Sticky &amp; Sweet Tour ‡[4][a]</td>\n",
       "      <td>2008–2009</td>\n",
       "      <td>85</td>\n",
       "      <td>$4,835,294</td>\n",
       "      <td>[6]</td>\n",
       "    </tr>\n",
       "    <tr>\n",
       "      <th>3</th>\n",
       "      <td>4</td>\n",
       "      <td>2[7]</td>\n",
       "      <td>10[7]</td>\n",
       "      <td>$397,300,000</td>\n",
       "      <td>$454,751,555</td>\n",
       "      <td>Pink</td>\n",
       "      <td>Beautiful Trauma World Tour</td>\n",
       "      <td>2018–2019</td>\n",
       "      <td>156</td>\n",
       "      <td>$2,546,795</td>\n",
       "      <td>[7]</td>\n",
       "    </tr>\n",
       "    <tr>\n",
       "      <th>4</th>\n",
       "      <td>5</td>\n",
       "      <td>2[4]</td>\n",
       "      <td>NaN</td>\n",
       "      <td>$345,675,146</td>\n",
       "      <td>$402,844,849</td>\n",
       "      <td>Taylor Swift</td>\n",
       "      <td>Reputation Stadium Tour</td>\n",
       "      <td>2018</td>\n",
       "      <td>53</td>\n",
       "      <td>$6,522,173</td>\n",
       "      <td>[8]</td>\n",
       "    </tr>\n",
       "    <tr>\n",
       "      <th>5</th>\n",
       "      <td>6</td>\n",
       "      <td>2[4]</td>\n",
       "      <td>10[9]</td>\n",
       "      <td>$305,158,363</td>\n",
       "      <td>$388,978,496</td>\n",
       "      <td>Madonna</td>\n",
       "      <td>The MDNA Tour</td>\n",
       "      <td>2012</td>\n",
       "      <td>88</td>\n",
       "      <td>$3,467,709</td>\n",
       "      <td>[9]</td>\n",
       "    </tr>\n",
       "    <tr>\n",
       "      <th>6</th>\n",
       "      <td>7</td>\n",
       "      <td>2[10]</td>\n",
       "      <td>NaN</td>\n",
       "      <td>$280,000,000</td>\n",
       "      <td>$381,932,682</td>\n",
       "      <td>Celine Dion</td>\n",
       "      <td>Taking Chances World Tour</td>\n",
       "      <td>2008–2009</td>\n",
       "      <td>131</td>\n",
       "      <td>$2,137,405</td>\n",
       "      <td>[11]</td>\n",
       "    </tr>\n",
       "    <tr>\n",
       "      <th>7</th>\n",
       "      <td>7</td>\n",
       "      <td>NaN</td>\n",
       "      <td>NaN</td>\n",
       "      <td>$257,600,000</td>\n",
       "      <td>$257,600,000</td>\n",
       "      <td>Pink</td>\n",
       "      <td>Summer Carnival †</td>\n",
       "      <td>2023–2024</td>\n",
       "      <td>41</td>\n",
       "      <td>$6,282,927</td>\n",
       "      <td>[12]</td>\n",
       "    </tr>\n",
       "    <tr>\n",
       "      <th>8</th>\n",
       "      <td>9</td>\n",
       "      <td>NaN</td>\n",
       "      <td>NaN</td>\n",
       "      <td>$256,084,556</td>\n",
       "      <td>$312,258,401</td>\n",
       "      <td>Beyoncé</td>\n",
       "      <td>The Formation World Tour</td>\n",
       "      <td>2016</td>\n",
       "      <td>49</td>\n",
       "      <td>$5,226,215</td>\n",
       "      <td>[13]</td>\n",
       "    </tr>\n",
       "    <tr>\n",
       "      <th>9</th>\n",
       "      <td>10</td>\n",
       "      <td>NaN</td>\n",
       "      <td>NaN</td>\n",
       "      <td>$250,400,000</td>\n",
       "      <td>$309,141,878</td>\n",
       "      <td>Taylor Swift</td>\n",
       "      <td>The 1989 World Tour</td>\n",
       "      <td>2015</td>\n",
       "      <td>85</td>\n",
       "      <td>$2,945,882</td>\n",
       "      <td>[14]</td>\n",
       "    </tr>\n",
       "    <tr>\n",
       "      <th>10</th>\n",
       "      <td>11</td>\n",
       "      <td>NaN</td>\n",
       "      <td>NaN</td>\n",
       "      <td>$229,100,000[b]</td>\n",
       "      <td>$283,202,896</td>\n",
       "      <td>Beyoncé</td>\n",
       "      <td>The Mrs. Carter Show World Tour</td>\n",
       "      <td>2013–2014</td>\n",
       "      <td>132</td>\n",
       "      <td>$1,735,606</td>\n",
       "      <td>[15][16]</td>\n",
       "    </tr>\n",
       "    <tr>\n",
       "      <th>11</th>\n",
       "      <td>12</td>\n",
       "      <td>NaN</td>\n",
       "      <td>14[17]</td>\n",
       "      <td>$227,400,000</td>\n",
       "      <td>$295,301,479</td>\n",
       "      <td>Lady Gaga</td>\n",
       "      <td>The Monster Ball Tour *</td>\n",
       "      <td>2009–2011</td>\n",
       "      <td>203</td>\n",
       "      <td>$1,118,227</td>\n",
       "      <td>[18]</td>\n",
       "    </tr>\n",
       "    <tr>\n",
       "      <th>12</th>\n",
       "      <td>13</td>\n",
       "      <td>NaN</td>\n",
       "      <td>NaN</td>\n",
       "      <td>$204,000,000</td>\n",
       "      <td>$251,856,802</td>\n",
       "      <td>Katy Perry</td>\n",
       "      <td>Prismatic World Tour</td>\n",
       "      <td>2014–2015</td>\n",
       "      <td>151</td>\n",
       "      <td>$1,350,993</td>\n",
       "      <td>[19]</td>\n",
       "    </tr>\n",
       "    <tr>\n",
       "      <th>13</th>\n",
       "      <td>14</td>\n",
       "      <td>1[20]</td>\n",
       "      <td>NaN</td>\n",
       "      <td>$200,000,000</td>\n",
       "      <td>$299,676,265</td>\n",
       "      <td>Cher</td>\n",
       "      <td>Living Proof: The Farewell Tour ‡[21][a]</td>\n",
       "      <td>2002–2005</td>\n",
       "      <td>325</td>\n",
       "      <td>$615,385</td>\n",
       "      <td>[20]</td>\n",
       "    </tr>\n",
       "    <tr>\n",
       "      <th>14</th>\n",
       "      <td>15</td>\n",
       "      <td>2[c]</td>\n",
       "      <td>NaN</td>\n",
       "      <td>$194,000,000</td>\n",
       "      <td>$281,617,035</td>\n",
       "      <td>Madonna</td>\n",
       "      <td>Confessions Tour</td>\n",
       "      <td>2006</td>\n",
       "      <td>60</td>\n",
       "      <td>$3,233,333</td>\n",
       "      <td>[5]</td>\n",
       "    </tr>\n",
       "    <tr>\n",
       "      <th>15</th>\n",
       "      <td>16</td>\n",
       "      <td>NaN</td>\n",
       "      <td>NaN</td>\n",
       "      <td>$184,000,000</td>\n",
       "      <td>$227,452,347</td>\n",
       "      <td>Pink</td>\n",
       "      <td>The Truth About Love Tour</td>\n",
       "      <td>2013–2014</td>\n",
       "      <td>142</td>\n",
       "      <td>$1,295,775</td>\n",
       "      <td>[22]</td>\n",
       "    </tr>\n",
       "    <tr>\n",
       "      <th>16</th>\n",
       "      <td>17</td>\n",
       "      <td>NaN</td>\n",
       "      <td>NaN</td>\n",
       "      <td>$170,000,000</td>\n",
       "      <td>$213,568,571</td>\n",
       "      <td>Lady Gaga</td>\n",
       "      <td>Born This Way Ball</td>\n",
       "      <td>2012–2013</td>\n",
       "      <td>98</td>\n",
       "      <td>$1,734,694</td>\n",
       "      <td>[d]</td>\n",
       "    </tr>\n",
       "    <tr>\n",
       "      <th>17</th>\n",
       "      <td>18</td>\n",
       "      <td>NaN</td>\n",
       "      <td>NaN</td>\n",
       "      <td>$169,800,000</td>\n",
       "      <td>$207,046,755</td>\n",
       "      <td>Madonna</td>\n",
       "      <td>Rebel Heart Tour</td>\n",
       "      <td>2015–2016</td>\n",
       "      <td>82</td>\n",
       "      <td>$2,070,732</td>\n",
       "      <td>[4]</td>\n",
       "    </tr>\n",
       "    <tr>\n",
       "      <th>18</th>\n",
       "      <td>19</td>\n",
       "      <td>NaN</td>\n",
       "      <td>NaN</td>\n",
       "      <td>$167,700,000[e]</td>\n",
       "      <td>$204,486,106</td>\n",
       "      <td>Adele</td>\n",
       "      <td>Adele Live 2016</td>\n",
       "      <td>2016–2017</td>\n",
       "      <td>121</td>\n",
       "      <td>$1,385,950</td>\n",
       "      <td>[25]</td>\n",
       "    </tr>\n",
       "    <tr>\n",
       "      <th>19</th>\n",
       "      <td>20</td>\n",
       "      <td>NaN</td>\n",
       "      <td>NaN</td>\n",
       "      <td>$150,000,000</td>\n",
       "      <td>$185,423,109</td>\n",
       "      <td>Taylor Swift</td>\n",
       "      <td>The Red Tour</td>\n",
       "      <td>2013–2014</td>\n",
       "      <td>86</td>\n",
       "      <td>$1,744,186</td>\n",
       "      <td>[26]</td>\n",
       "    </tr>\n",
       "  </tbody>\n",
       "</table>\n",
       "</div>"
      ],
      "text/plain": [
       "    Rank   Peak All Time Peak     Actual Gross  Adjusted_actual_gross  \\\n",
       "0      1      1             2    $780,000,000           $780,000,000    \n",
       "1      2      1          7[2]    $579,800,000           $579,800,000    \n",
       "2      3   1[4]          2[5]    $411,000,000           $560,622,615    \n",
       "3      4   2[7]         10[7]    $397,300,000           $454,751,555    \n",
       "4      5   2[4]           NaN    $345,675,146           $402,844,849    \n",
       "5      6   2[4]         10[9]    $305,158,363           $388,978,496    \n",
       "6      7  2[10]           NaN    $280,000,000           $381,932,682    \n",
       "7      7    NaN           NaN    $257,600,000           $257,600,000    \n",
       "8      9    NaN           NaN    $256,084,556           $312,258,401    \n",
       "9     10    NaN           NaN    $250,400,000           $309,141,878    \n",
       "10    11    NaN           NaN  $229,100,000[b]          $283,202,896    \n",
       "11    12    NaN        14[17]    $227,400,000           $295,301,479    \n",
       "12    13    NaN           NaN    $204,000,000           $251,856,802    \n",
       "13    14  1[20]           NaN    $200,000,000           $299,676,265    \n",
       "14    15   2[c]           NaN    $194,000,000           $281,617,035    \n",
       "15    16    NaN           NaN    $184,000,000           $227,452,347    \n",
       "16    17    NaN           NaN    $170,000,000           $213,568,571    \n",
       "17    18    NaN           NaN    $169,800,000           $207,046,755    \n",
       "18    19    NaN           NaN  $167,700,000[e]          $204,486,106    \n",
       "19    20    NaN           NaN    $150,000,000           $185,423,109    \n",
       "\n",
       "          Artist                                Tour title    Year(s)  Shows  \\\n",
       "0   Taylor Swift                           The Eras Tour †  2023–2024     56   \n",
       "1        Beyoncé                    Renaissance World Tour       2023     56   \n",
       "2        Madonna               Sticky & Sweet Tour ‡[4][a]  2008–2009     85   \n",
       "3           Pink               Beautiful Trauma World Tour  2018–2019    156   \n",
       "4   Taylor Swift                   Reputation Stadium Tour       2018     53   \n",
       "5        Madonna                             The MDNA Tour       2012     88   \n",
       "6    Celine Dion                 Taking Chances World Tour  2008–2009    131   \n",
       "7           Pink                         Summer Carnival †  2023–2024     41   \n",
       "8        Beyoncé                  The Formation World Tour       2016     49   \n",
       "9   Taylor Swift                       The 1989 World Tour       2015     85   \n",
       "10       Beyoncé           The Mrs. Carter Show World Tour  2013–2014    132   \n",
       "11     Lady Gaga                   The Monster Ball Tour *  2009–2011    203   \n",
       "12    Katy Perry                      Prismatic World Tour  2014–2015    151   \n",
       "13          Cher  Living Proof: The Farewell Tour ‡[21][a]  2002–2005    325   \n",
       "14       Madonna                          Confessions Tour       2006     60   \n",
       "15          Pink                 The Truth About Love Tour  2013–2014    142   \n",
       "16     Lady Gaga                        Born This Way Ball  2012–2013     98   \n",
       "17       Madonna                          Rebel Heart Tour  2015–2016     82   \n",
       "18         Adele                           Adele Live 2016  2016–2017    121   \n",
       "19  Taylor Swift                              The Red Tour  2013–2014     86   \n",
       "\n",
       "   Average gross      Ref.  \n",
       "0   $13,928,571        [1]  \n",
       "1   $10,353,571        [3]  \n",
       "2    $4,835,294        [6]  \n",
       "3    $2,546,795        [7]  \n",
       "4    $6,522,173        [8]  \n",
       "5    $3,467,709        [9]  \n",
       "6    $2,137,405       [11]  \n",
       "7    $6,282,927       [12]  \n",
       "8    $5,226,215       [13]  \n",
       "9    $2,945,882       [14]  \n",
       "10   $1,735,606   [15][16]  \n",
       "11   $1,118,227       [18]  \n",
       "12   $1,350,993       [19]  \n",
       "13     $615,385       [20]  \n",
       "14   $3,233,333        [5]  \n",
       "15   $1,295,775       [22]  \n",
       "16   $1,734,694        [d]  \n",
       "17   $2,070,732        [4]  \n",
       "18   $1,385,950       [25]  \n",
       "19   $1,744,186       [26]  "
      ]
     },
     "execution_count": 84,
     "metadata": {},
     "output_type": "execute_result"
    }
   ],
   "source": [
    "df = pd.read_csv(r\"C:\\Users\\user\\Documents\\music.csv\")\n",
    "df"
   ]
  },
  {
   "cell_type": "code",
   "execution_count": 85,
   "id": "fd7198d3-2aea-4b51-af67-bb498f92160d",
   "metadata": {},
   "outputs": [
    {
     "name": "stdout",
     "output_type": "stream",
     "text": [
      "<class 'pandas.core.frame.DataFrame'>\n",
      "RangeIndex: 20 entries, 0 to 19\n",
      "Data columns (total 11 columns):\n",
      " #   Column                  Non-Null Count  Dtype \n",
      "---  ------                  --------------  ----- \n",
      " 0   Rank                    20 non-null     int64 \n",
      " 1   Peak                    9 non-null      object\n",
      " 2   All Time Peak           6 non-null      object\n",
      " 3    Actual Gross           20 non-null     object\n",
      " 4    Adjusted_actual_gross  20 non-null     object\n",
      " 5   Artist                  20 non-null     object\n",
      " 6   Tour title              20 non-null     object\n",
      " 7   Year(s)                 20 non-null     object\n",
      " 8   Shows                   20 non-null     int64 \n",
      " 9   Average gross           20 non-null     object\n",
      " 10  Ref.                    20 non-null     object\n",
      "dtypes: int64(2), object(9)\n",
      "memory usage: 1.8+ KB\n"
     ]
    }
   ],
   "source": [
    "df.info()"
   ]
  },
  {
   "cell_type": "code",
   "execution_count": 86,
   "id": "d51d4b3f-d5ff-40a3-81ac-79f41ae26992",
   "metadata": {},
   "outputs": [
    {
     "data": {
      "text/html": [
       "<div>\n",
       "<style scoped>\n",
       "    .dataframe tbody tr th:only-of-type {\n",
       "        vertical-align: middle;\n",
       "    }\n",
       "\n",
       "    .dataframe tbody tr th {\n",
       "        vertical-align: top;\n",
       "    }\n",
       "\n",
       "    .dataframe thead th {\n",
       "        text-align: right;\n",
       "    }\n",
       "</style>\n",
       "<table border=\"1\" class=\"dataframe\">\n",
       "  <thead>\n",
       "    <tr style=\"text-align: right;\">\n",
       "      <th></th>\n",
       "      <th>Rank</th>\n",
       "      <th>Shows</th>\n",
       "    </tr>\n",
       "  </thead>\n",
       "  <tbody>\n",
       "    <tr>\n",
       "      <th>count</th>\n",
       "      <td>20.000000</td>\n",
       "      <td>20.000000</td>\n",
       "    </tr>\n",
       "    <tr>\n",
       "      <th>mean</th>\n",
       "      <td>10.450000</td>\n",
       "      <td>110.000000</td>\n",
       "    </tr>\n",
       "    <tr>\n",
       "      <th>std</th>\n",
       "      <td>5.942488</td>\n",
       "      <td>66.507617</td>\n",
       "    </tr>\n",
       "    <tr>\n",
       "      <th>min</th>\n",
       "      <td>1.000000</td>\n",
       "      <td>41.000000</td>\n",
       "    </tr>\n",
       "    <tr>\n",
       "      <th>25%</th>\n",
       "      <td>5.750000</td>\n",
       "      <td>59.000000</td>\n",
       "    </tr>\n",
       "    <tr>\n",
       "      <th>50%</th>\n",
       "      <td>10.500000</td>\n",
       "      <td>87.000000</td>\n",
       "    </tr>\n",
       "    <tr>\n",
       "      <th>75%</th>\n",
       "      <td>15.250000</td>\n",
       "      <td>134.500000</td>\n",
       "    </tr>\n",
       "    <tr>\n",
       "      <th>max</th>\n",
       "      <td>20.000000</td>\n",
       "      <td>325.000000</td>\n",
       "    </tr>\n",
       "  </tbody>\n",
       "</table>\n",
       "</div>"
      ],
      "text/plain": [
       "            Rank       Shows\n",
       "count  20.000000   20.000000\n",
       "mean   10.450000  110.000000\n",
       "std     5.942488   66.507617\n",
       "min     1.000000   41.000000\n",
       "25%     5.750000   59.000000\n",
       "50%    10.500000   87.000000\n",
       "75%    15.250000  134.500000\n",
       "max    20.000000  325.000000"
      ]
     },
     "execution_count": 86,
     "metadata": {},
     "output_type": "execute_result"
    }
   ],
   "source": [
    "df.describe()"
   ]
  },
  {
   "cell_type": "code",
   "execution_count": 87,
   "id": "20b6bbf5-2ac8-4458-bddb-fc64ac31883b",
   "metadata": {},
   "outputs": [
    {
     "data": {
      "text/plain": [
       "(20, 11)"
      ]
     },
     "execution_count": 87,
     "metadata": {},
     "output_type": "execute_result"
    }
   ],
   "source": [
    "df.shape"
   ]
  },
  {
   "cell_type": "code",
   "execution_count": 88,
   "id": "bd07a68e-2e09-4c70-89e6-17e4e513c069",
   "metadata": {},
   "outputs": [
    {
     "data": {
      "text/plain": [
       "0"
      ]
     },
     "execution_count": 88,
     "metadata": {},
     "output_type": "execute_result"
    }
   ],
   "source": [
    "df.duplicated().sum()"
   ]
  },
  {
   "cell_type": "code",
   "execution_count": 89,
   "id": "aa905d7b-f49b-4b1b-885e-65e0f15a0680",
   "metadata": {},
   "outputs": [
    {
     "data": {
      "text/plain": [
       "Rank                       int64\n",
       "Peak                      object\n",
       "All Time Peak             object\n",
       " Actual Gross             object\n",
       " Adjusted_actual_gross    object\n",
       "Artist                    object\n",
       "Tour title                object\n",
       "Year(s)                   object\n",
       "Shows                      int64\n",
       "Average gross             object\n",
       "Ref.                      object\n",
       "dtype: object"
      ]
     },
     "execution_count": 89,
     "metadata": {},
     "output_type": "execute_result"
    }
   ],
   "source": [
    "df.dtypes"
   ]
  },
  {
   "cell_type": "code",
   "execution_count": 90,
   "id": "cab20297-b21e-4056-9493-fbd440a672c3",
   "metadata": {},
   "outputs": [
    {
     "data": {
      "text/plain": [
       "Rank                       0\n",
       "Peak                      11\n",
       "All Time Peak             14\n",
       " Actual Gross              0\n",
       " Adjusted_actual_gross     0\n",
       "Artist                     0\n",
       "Tour title                 0\n",
       "Year(s)                    0\n",
       "Shows                      0\n",
       "Average gross              0\n",
       "Ref.                       0\n",
       "dtype: int64"
      ]
     },
     "execution_count": 90,
     "metadata": {},
     "output_type": "execute_result"
    }
   ],
   "source": [
    "df.isnull().sum()"
   ]
  },
  {
   "cell_type": "code",
   "execution_count": 91,
   "id": "4d45c23c-faeb-45de-9e44-915d6ba4fc15",
   "metadata": {},
   "outputs": [],
   "source": [
    "# Handling of null values\n",
    "\n",
    "df[\"Peak\"].fillna(df[\"Peak\"].mode()[0], inplace = True)\n",
    "df[\"All Time Peak\"].fillna(df[\"All Time Peak\"].mode()[0], inplace = True)"
   ]
  },
  {
   "cell_type": "code",
   "execution_count": 92,
   "id": "2425775e-a313-4249-bf69-d77b9af5dfe7",
   "metadata": {
    "scrolled": true
   },
   "outputs": [
    {
     "data": {
      "text/plain": [
       "Rank                      0\n",
       "Peak                      0\n",
       "All Time Peak             0\n",
       " Actual Gross             0\n",
       " Adjusted_actual_gross    0\n",
       "Artist                    0\n",
       "Tour title                0\n",
       "Year(s)                   0\n",
       "Shows                     0\n",
       "Average gross             0\n",
       "Ref.                      0\n",
       "dtype: int64"
      ]
     },
     "execution_count": 92,
     "metadata": {},
     "output_type": "execute_result"
    }
   ],
   "source": [
    "df.isnull().sum()"
   ]
  },
  {
   "cell_type": "code",
   "execution_count": 93,
   "id": "05b267e6-74d1-428b-b024-87fb060178d5",
   "metadata": {},
   "outputs": [],
   "source": [
    "df[' Actual Gross'] = df[' Actual Gross'].astype(str)"
   ]
  },
  {
   "cell_type": "code",
   "execution_count": 94,
   "id": "53264110-ac64-46ca-a3cb-dc7f6f58331c",
   "metadata": {},
   "outputs": [
    {
     "data": {
      "text/html": [
       "<div>\n",
       "<style scoped>\n",
       "    .dataframe tbody tr th:only-of-type {\n",
       "        vertical-align: middle;\n",
       "    }\n",
       "\n",
       "    .dataframe tbody tr th {\n",
       "        vertical-align: top;\n",
       "    }\n",
       "\n",
       "    .dataframe thead th {\n",
       "        text-align: right;\n",
       "    }\n",
       "</style>\n",
       "<table border=\"1\" class=\"dataframe\">\n",
       "  <thead>\n",
       "    <tr style=\"text-align: right;\">\n",
       "      <th></th>\n",
       "      <th>Rank</th>\n",
       "      <th>Peak</th>\n",
       "      <th>All Time Peak</th>\n",
       "      <th>Actual Gross</th>\n",
       "      <th>Adjusted_actual_gross</th>\n",
       "      <th>Artist</th>\n",
       "      <th>Tour title</th>\n",
       "      <th>Year(s)</th>\n",
       "      <th>Shows</th>\n",
       "      <th>Average gross</th>\n",
       "      <th>Ref.</th>\n",
       "    </tr>\n",
       "  </thead>\n",
       "  <tbody>\n",
       "    <tr>\n",
       "      <th>0</th>\n",
       "      <td>1</td>\n",
       "      <td>1</td>\n",
       "      <td>2</td>\n",
       "      <td>780000000</td>\n",
       "      <td>780000000</td>\n",
       "      <td>Taylor Swift</td>\n",
       "      <td>The Eras Tour †</td>\n",
       "      <td>2023–2024</td>\n",
       "      <td>56</td>\n",
       "      <td>$13,928,571</td>\n",
       "      <td>[1]</td>\n",
       "    </tr>\n",
       "    <tr>\n",
       "      <th>1</th>\n",
       "      <td>2</td>\n",
       "      <td>1</td>\n",
       "      <td>7[2]</td>\n",
       "      <td>579800000</td>\n",
       "      <td>579800000</td>\n",
       "      <td>Beyoncé</td>\n",
       "      <td>Renaissance World Tour</td>\n",
       "      <td>2023</td>\n",
       "      <td>56</td>\n",
       "      <td>$10,353,571</td>\n",
       "      <td>[3]</td>\n",
       "    </tr>\n",
       "    <tr>\n",
       "      <th>2</th>\n",
       "      <td>3</td>\n",
       "      <td>1[4]</td>\n",
       "      <td>2[5]</td>\n",
       "      <td>411000000</td>\n",
       "      <td>560622615</td>\n",
       "      <td>Madonna</td>\n",
       "      <td>Sticky &amp; Sweet Tour ‡[4][a]</td>\n",
       "      <td>2008–2009</td>\n",
       "      <td>85</td>\n",
       "      <td>$4,835,294</td>\n",
       "      <td>[6]</td>\n",
       "    </tr>\n",
       "    <tr>\n",
       "      <th>3</th>\n",
       "      <td>4</td>\n",
       "      <td>2[7]</td>\n",
       "      <td>10[7]</td>\n",
       "      <td>397300000</td>\n",
       "      <td>454751555</td>\n",
       "      <td>Pink</td>\n",
       "      <td>Beautiful Trauma World Tour</td>\n",
       "      <td>2018–2019</td>\n",
       "      <td>156</td>\n",
       "      <td>$2,546,795</td>\n",
       "      <td>[7]</td>\n",
       "    </tr>\n",
       "    <tr>\n",
       "      <th>4</th>\n",
       "      <td>5</td>\n",
       "      <td>2[4]</td>\n",
       "      <td>10[7]</td>\n",
       "      <td>345675146</td>\n",
       "      <td>402844849</td>\n",
       "      <td>Taylor Swift</td>\n",
       "      <td>Reputation Stadium Tour</td>\n",
       "      <td>2018</td>\n",
       "      <td>53</td>\n",
       "      <td>$6,522,173</td>\n",
       "      <td>[8]</td>\n",
       "    </tr>\n",
       "    <tr>\n",
       "      <th>5</th>\n",
       "      <td>6</td>\n",
       "      <td>2[4]</td>\n",
       "      <td>10[9]</td>\n",
       "      <td>305158363</td>\n",
       "      <td>388978496</td>\n",
       "      <td>Madonna</td>\n",
       "      <td>The MDNA Tour</td>\n",
       "      <td>2012</td>\n",
       "      <td>88</td>\n",
       "      <td>$3,467,709</td>\n",
       "      <td>[9]</td>\n",
       "    </tr>\n",
       "    <tr>\n",
       "      <th>6</th>\n",
       "      <td>7</td>\n",
       "      <td>2[10]</td>\n",
       "      <td>10[7]</td>\n",
       "      <td>280000000</td>\n",
       "      <td>381932682</td>\n",
       "      <td>Celine Dion</td>\n",
       "      <td>Taking Chances World Tour</td>\n",
       "      <td>2008–2009</td>\n",
       "      <td>131</td>\n",
       "      <td>$2,137,405</td>\n",
       "      <td>[11]</td>\n",
       "    </tr>\n",
       "    <tr>\n",
       "      <th>7</th>\n",
       "      <td>7</td>\n",
       "      <td>1</td>\n",
       "      <td>10[7]</td>\n",
       "      <td>257600000</td>\n",
       "      <td>257600000</td>\n",
       "      <td>Pink</td>\n",
       "      <td>Summer Carnival †</td>\n",
       "      <td>2023–2024</td>\n",
       "      <td>41</td>\n",
       "      <td>$6,282,927</td>\n",
       "      <td>[12]</td>\n",
       "    </tr>\n",
       "    <tr>\n",
       "      <th>8</th>\n",
       "      <td>9</td>\n",
       "      <td>1</td>\n",
       "      <td>10[7]</td>\n",
       "      <td>256084556</td>\n",
       "      <td>312258401</td>\n",
       "      <td>Beyoncé</td>\n",
       "      <td>The Formation World Tour</td>\n",
       "      <td>2016</td>\n",
       "      <td>49</td>\n",
       "      <td>$5,226,215</td>\n",
       "      <td>[13]</td>\n",
       "    </tr>\n",
       "    <tr>\n",
       "      <th>9</th>\n",
       "      <td>10</td>\n",
       "      <td>1</td>\n",
       "      <td>10[7]</td>\n",
       "      <td>250400000</td>\n",
       "      <td>309141878</td>\n",
       "      <td>Taylor Swift</td>\n",
       "      <td>The 1989 World Tour</td>\n",
       "      <td>2015</td>\n",
       "      <td>85</td>\n",
       "      <td>$2,945,882</td>\n",
       "      <td>[14]</td>\n",
       "    </tr>\n",
       "    <tr>\n",
       "      <th>10</th>\n",
       "      <td>11</td>\n",
       "      <td>1</td>\n",
       "      <td>10[7]</td>\n",
       "      <td>229100000</td>\n",
       "      <td>283202896</td>\n",
       "      <td>Beyoncé</td>\n",
       "      <td>The Mrs. Carter Show World Tour</td>\n",
       "      <td>2013–2014</td>\n",
       "      <td>132</td>\n",
       "      <td>$1,735,606</td>\n",
       "      <td>[15][16]</td>\n",
       "    </tr>\n",
       "    <tr>\n",
       "      <th>11</th>\n",
       "      <td>12</td>\n",
       "      <td>1</td>\n",
       "      <td>14[17]</td>\n",
       "      <td>227400000</td>\n",
       "      <td>295301479</td>\n",
       "      <td>Lady Gaga</td>\n",
       "      <td>The Monster Ball Tour *</td>\n",
       "      <td>2009–2011</td>\n",
       "      <td>203</td>\n",
       "      <td>$1,118,227</td>\n",
       "      <td>[18]</td>\n",
       "    </tr>\n",
       "    <tr>\n",
       "      <th>12</th>\n",
       "      <td>13</td>\n",
       "      <td>1</td>\n",
       "      <td>10[7]</td>\n",
       "      <td>204000000</td>\n",
       "      <td>251856802</td>\n",
       "      <td>Katy Perry</td>\n",
       "      <td>Prismatic World Tour</td>\n",
       "      <td>2014–2015</td>\n",
       "      <td>151</td>\n",
       "      <td>$1,350,993</td>\n",
       "      <td>[19]</td>\n",
       "    </tr>\n",
       "    <tr>\n",
       "      <th>13</th>\n",
       "      <td>14</td>\n",
       "      <td>1[20]</td>\n",
       "      <td>10[7]</td>\n",
       "      <td>200000000</td>\n",
       "      <td>299676265</td>\n",
       "      <td>Cher</td>\n",
       "      <td>Living Proof: The Farewell Tour ‡[21][a]</td>\n",
       "      <td>2002–2005</td>\n",
       "      <td>325</td>\n",
       "      <td>$615,385</td>\n",
       "      <td>[20]</td>\n",
       "    </tr>\n",
       "    <tr>\n",
       "      <th>14</th>\n",
       "      <td>15</td>\n",
       "      <td>2[c]</td>\n",
       "      <td>10[7]</td>\n",
       "      <td>194000000</td>\n",
       "      <td>281617035</td>\n",
       "      <td>Madonna</td>\n",
       "      <td>Confessions Tour</td>\n",
       "      <td>2006</td>\n",
       "      <td>60</td>\n",
       "      <td>$3,233,333</td>\n",
       "      <td>[5]</td>\n",
       "    </tr>\n",
       "    <tr>\n",
       "      <th>15</th>\n",
       "      <td>16</td>\n",
       "      <td>1</td>\n",
       "      <td>10[7]</td>\n",
       "      <td>184000000</td>\n",
       "      <td>227452347</td>\n",
       "      <td>Pink</td>\n",
       "      <td>The Truth About Love Tour</td>\n",
       "      <td>2013–2014</td>\n",
       "      <td>142</td>\n",
       "      <td>$1,295,775</td>\n",
       "      <td>[22]</td>\n",
       "    </tr>\n",
       "    <tr>\n",
       "      <th>16</th>\n",
       "      <td>17</td>\n",
       "      <td>1</td>\n",
       "      <td>10[7]</td>\n",
       "      <td>170000000</td>\n",
       "      <td>213568571</td>\n",
       "      <td>Lady Gaga</td>\n",
       "      <td>Born This Way Ball</td>\n",
       "      <td>2012–2013</td>\n",
       "      <td>98</td>\n",
       "      <td>$1,734,694</td>\n",
       "      <td>[d]</td>\n",
       "    </tr>\n",
       "    <tr>\n",
       "      <th>17</th>\n",
       "      <td>18</td>\n",
       "      <td>1</td>\n",
       "      <td>10[7]</td>\n",
       "      <td>169800000</td>\n",
       "      <td>207046755</td>\n",
       "      <td>Madonna</td>\n",
       "      <td>Rebel Heart Tour</td>\n",
       "      <td>2015–2016</td>\n",
       "      <td>82</td>\n",
       "      <td>$2,070,732</td>\n",
       "      <td>[4]</td>\n",
       "    </tr>\n",
       "    <tr>\n",
       "      <th>18</th>\n",
       "      <td>19</td>\n",
       "      <td>1</td>\n",
       "      <td>10[7]</td>\n",
       "      <td>167700000</td>\n",
       "      <td>204486106</td>\n",
       "      <td>Adele</td>\n",
       "      <td>Adele Live 2016</td>\n",
       "      <td>2016–2017</td>\n",
       "      <td>121</td>\n",
       "      <td>$1,385,950</td>\n",
       "      <td>[25]</td>\n",
       "    </tr>\n",
       "    <tr>\n",
       "      <th>19</th>\n",
       "      <td>20</td>\n",
       "      <td>1</td>\n",
       "      <td>10[7]</td>\n",
       "      <td>150000000</td>\n",
       "      <td>185423109</td>\n",
       "      <td>Taylor Swift</td>\n",
       "      <td>The Red Tour</td>\n",
       "      <td>2013–2014</td>\n",
       "      <td>86</td>\n",
       "      <td>$1,744,186</td>\n",
       "      <td>[26]</td>\n",
       "    </tr>\n",
       "  </tbody>\n",
       "</table>\n",
       "</div>"
      ],
      "text/plain": [
       "    Rank   Peak All Time Peak  Actual Gross  Adjusted_actual_gross  \\\n",
       "0      1      1             2     780000000              780000000   \n",
       "1      2      1          7[2]     579800000              579800000   \n",
       "2      3   1[4]          2[5]     411000000              560622615   \n",
       "3      4   2[7]         10[7]     397300000              454751555   \n",
       "4      5   2[4]         10[7]     345675146              402844849   \n",
       "5      6   2[4]         10[9]     305158363              388978496   \n",
       "6      7  2[10]         10[7]     280000000              381932682   \n",
       "7      7      1         10[7]     257600000              257600000   \n",
       "8      9      1         10[7]     256084556              312258401   \n",
       "9     10      1         10[7]     250400000              309141878   \n",
       "10    11      1         10[7]     229100000              283202896   \n",
       "11    12      1        14[17]     227400000              295301479   \n",
       "12    13      1         10[7]     204000000              251856802   \n",
       "13    14  1[20]         10[7]     200000000              299676265   \n",
       "14    15   2[c]         10[7]     194000000              281617035   \n",
       "15    16      1         10[7]     184000000              227452347   \n",
       "16    17      1         10[7]     170000000              213568571   \n",
       "17    18      1         10[7]     169800000              207046755   \n",
       "18    19      1         10[7]     167700000              204486106   \n",
       "19    20      1         10[7]     150000000              185423109   \n",
       "\n",
       "          Artist                                Tour title    Year(s)  Shows  \\\n",
       "0   Taylor Swift                           The Eras Tour †  2023–2024     56   \n",
       "1        Beyoncé                    Renaissance World Tour       2023     56   \n",
       "2        Madonna               Sticky & Sweet Tour ‡[4][a]  2008–2009     85   \n",
       "3           Pink               Beautiful Trauma World Tour  2018–2019    156   \n",
       "4   Taylor Swift                   Reputation Stadium Tour       2018     53   \n",
       "5        Madonna                             The MDNA Tour       2012     88   \n",
       "6    Celine Dion                 Taking Chances World Tour  2008–2009    131   \n",
       "7           Pink                         Summer Carnival †  2023–2024     41   \n",
       "8        Beyoncé                  The Formation World Tour       2016     49   \n",
       "9   Taylor Swift                       The 1989 World Tour       2015     85   \n",
       "10       Beyoncé           The Mrs. Carter Show World Tour  2013–2014    132   \n",
       "11     Lady Gaga                   The Monster Ball Tour *  2009–2011    203   \n",
       "12    Katy Perry                      Prismatic World Tour  2014–2015    151   \n",
       "13          Cher  Living Proof: The Farewell Tour ‡[21][a]  2002–2005    325   \n",
       "14       Madonna                          Confessions Tour       2006     60   \n",
       "15          Pink                 The Truth About Love Tour  2013–2014    142   \n",
       "16     Lady Gaga                        Born This Way Ball  2012–2013     98   \n",
       "17       Madonna                          Rebel Heart Tour  2015–2016     82   \n",
       "18         Adele                           Adele Live 2016  2016–2017    121   \n",
       "19  Taylor Swift                              The Red Tour  2013–2014     86   \n",
       "\n",
       "   Average gross      Ref.  \n",
       "0   $13,928,571        [1]  \n",
       "1   $10,353,571        [3]  \n",
       "2    $4,835,294        [6]  \n",
       "3    $2,546,795        [7]  \n",
       "4    $6,522,173        [8]  \n",
       "5    $3,467,709        [9]  \n",
       "6    $2,137,405       [11]  \n",
       "7    $6,282,927       [12]  \n",
       "8    $5,226,215       [13]  \n",
       "9    $2,945,882       [14]  \n",
       "10   $1,735,606   [15][16]  \n",
       "11   $1,118,227       [18]  \n",
       "12   $1,350,993       [19]  \n",
       "13     $615,385       [20]  \n",
       "14   $3,233,333        [5]  \n",
       "15   $1,295,775       [22]  \n",
       "16   $1,734,694        [d]  \n",
       "17   $2,070,732        [4]  \n",
       "18   $1,385,950       [25]  \n",
       "19   $1,744,186       [26]  "
      ]
     },
     "execution_count": 94,
     "metadata": {},
     "output_type": "execute_result"
    }
   ],
   "source": [
    "# Replacing\n",
    "\n",
    "df[' Actual Gross'] = df[' Actual Gross'].str.replace(r'[$]', '', regex=True)\n",
    "df[' Actual Gross'] = df[' Actual Gross'].str.replace(r'[^0-9]', '', regex=True)\n",
    "df[' Adjusted_actual_gross'] =df[' Adjusted_actual_gross'] .str.replace(r'[$]', '', regex=True)\n",
    "df[' Adjusted_actual_gross'] =df[' Adjusted_actual_gross'] .str.replace(r'[^0-9]', '', regex=True)\n",
    "df"
   ]
  },
  {
   "cell_type": "code",
   "execution_count": 95,
   "id": "bb902f70-f631-4846-a19e-046bc661213b",
   "metadata": {},
   "outputs": [
    {
     "data": {
      "text/plain": [
       "0     780000000\n",
       "1     579800000\n",
       "2     411000000\n",
       "3     397300000\n",
       "4     345675146\n",
       "5     305158363\n",
       "6     280000000\n",
       "7     257600000\n",
       "8     256084556\n",
       "9     250400000\n",
       "10    229100000\n",
       "11    227400000\n",
       "12    204000000\n",
       "13    200000000\n",
       "14    194000000\n",
       "15    184000000\n",
       "16    170000000\n",
       "17    169800000\n",
       "18    167700000\n",
       "19    150000000\n",
       "Name:  Actual Gross, dtype: object"
      ]
     },
     "execution_count": 95,
     "metadata": {},
     "output_type": "execute_result"
    }
   ],
   "source": [
    "df[' Actual Gross']"
   ]
  },
  {
   "cell_type": "code",
   "execution_count": 96,
   "id": "21d47b6a-c67e-4ca5-a54f-96261530a6a3",
   "metadata": {
    "scrolled": true
   },
   "outputs": [
    {
     "data": {
      "text/plain": [
       "Rank                       int64\n",
       "Peak                      object\n",
       "All Time Peak             object\n",
       " Actual Gross             object\n",
       " Adjusted_actual_gross    object\n",
       "Artist                    object\n",
       "Tour title                object\n",
       "Year(s)                   object\n",
       "Shows                      int64\n",
       "Average gross             object\n",
       "Ref.                      object\n",
       "dtype: object"
      ]
     },
     "execution_count": 96,
     "metadata": {},
     "output_type": "execute_result"
    }
   ],
   "source": [
    "df.dtypes"
   ]
  },
  {
   "cell_type": "code",
   "execution_count": 97,
   "id": "826abee8-7a9b-4a40-8d4f-00e321ae2952",
   "metadata": {},
   "outputs": [
    {
     "name": "stdout",
     "output_type": "stream",
     "text": [
      "['780000000' '579800000' '411000000' '397300000' '345675146' '305158363'\n",
      " '280000000' '257600000' '256084556' '250400000' '229100000' '227400000'\n",
      " '204000000' '200000000' '194000000' '184000000' '170000000' '169800000'\n",
      " '167700000' '150000000']\n"
     ]
    }
   ],
   "source": [
    "print(df[' Actual Gross'].unique())"
   ]
  },
  {
   "cell_type": "code",
   "execution_count": 98,
   "id": "486f7b23-a2fa-4bcc-85c0-b375cf3fd700",
   "metadata": {},
   "outputs": [],
   "source": [
    "# convert the columns to numerical columns\n",
    "\n",
    "df[' Actual Gross'] = pd.to_numeric(df[' Actual Gross'], errors='coerce')\n"
   ]
  },
  {
   "cell_type": "code",
   "execution_count": 99,
   "id": "d7931b09-20dc-4325-8a38-0cff77537239",
   "metadata": {},
   "outputs": [
    {
     "name": "stdout",
     "output_type": "stream",
     "text": [
      "int64\n"
     ]
    }
   ],
   "source": [
    "print(df[' Actual Gross'].dtype)"
   ]
  },
  {
   "cell_type": "code",
   "execution_count": 100,
   "id": "0c5029ea-59c7-443a-9e1d-38c7aacba1b8",
   "metadata": {},
   "outputs": [],
   "source": [
    "df[' Actual Gross'] = df[' Actual Gross'].astype(str)"
   ]
  },
  {
   "cell_type": "code",
   "execution_count": 101,
   "id": "b4f093b0-a806-4c90-85ab-7f998d1adbfe",
   "metadata": {},
   "outputs": [],
   "source": [
    "df[' Actual Gross'] = df[' Actual Gross'].str.strip()"
   ]
  },
  {
   "cell_type": "code",
   "execution_count": 102,
   "id": "c9b1d8e2-57a6-4542-aa2e-3edcd86de016",
   "metadata": {},
   "outputs": [],
   "source": [
    "df[' Actual Gross'] = df[' Actual Gross'].apply(lambda x: x.strip() if isinstance(x, str) else '')"
   ]
  },
  {
   "cell_type": "code",
   "execution_count": 103,
   "id": "e4743cad-d9d3-4424-94b4-72311dde0668",
   "metadata": {},
   "outputs": [],
   "source": [
    "df[' Actual Gross'] = pd.to_numeric(df[' Actual Gross'], errors='coerce')"
   ]
  },
  {
   "cell_type": "code",
   "execution_count": 104,
   "id": "8d66553e-d2b2-4a52-83cc-27771f183856",
   "metadata": {},
   "outputs": [
    {
     "name": "stdout",
     "output_type": "stream",
     "text": [
      "int64\n"
     ]
    }
   ],
   "source": [
    "print(df[' Actual Gross'].dtype)"
   ]
  },
  {
   "cell_type": "code",
   "execution_count": 105,
   "id": "5c7bf140-b0b8-433c-9b21-a154b1b411a6",
   "metadata": {},
   "outputs": [
    {
     "data": {
      "text/plain": [
       "152370097.00772345"
      ]
     },
     "execution_count": 105,
     "metadata": {},
     "output_type": "execute_result"
    }
   ],
   "source": [
    "# detecting outliers using z-score\n",
    "\n",
    "np.std(df[' Actual Gross'])"
   ]
  },
  {
   "cell_type": "code",
   "execution_count": 106,
   "id": "339d08c9-ac7e-4dc6-abd1-8ffdbd3929dd",
   "metadata": {},
   "outputs": [],
   "source": [
    "# threshold = 2, threshold - is a value, point or level that marks the beginning of an action or a change\n",
    "# creating a function\n",
    "\n",
    "def detect_outlier(data):\n",
    "    outlier = []\n",
    "    mean = np.mean(data)\n",
    "    std_dev = np.std(data)\n",
    "\n",
    "    for i in data:\n",
    "        z_score = (i-mean) / std_dev\n",
    "        if np.abs(z_score) > 1:\n",
    "            outlier.append(i)\n",
    "    return outlier"
   ]
  },
  {
   "cell_type": "code",
   "execution_count": 107,
   "id": "d6fcdd6e-d1d6-4e52-92f8-57e545afae5b",
   "metadata": {},
   "outputs": [
    {
     "data": {
      "text/plain": [
       "[780000000, 579800000]"
      ]
     },
     "execution_count": 107,
     "metadata": {},
     "output_type": "execute_result"
    }
   ],
   "source": [
    "detect_outlier(df[' Actual Gross'])  \n"
   ]
  },
  {
   "cell_type": "code",
   "execution_count": 108,
   "id": "eea84a70-8c05-4d0a-97df-6692e0f3ee82",
   "metadata": {},
   "outputs": [
    {
     "name": "stdout",
     "output_type": "stream",
     "text": [
      "191500000.0 315287558.75\n"
     ]
    }
   ],
   "source": [
    "# detecting outliers using the interquat range\n",
    "\n",
    "Q1 = np.percentile(df[' Actual Gross'], 25)\n",
    "Q3 = np.percentile(df[' Actual Gross'], 75)\n",
    "print(Q1, Q3)"
   ]
  },
  {
   "cell_type": "code",
   "execution_count": 109,
   "id": "6f84e09f-bed9-4dbe-a989-ec5ea8ffb456",
   "metadata": {},
   "outputs": [
    {
     "data": {
      "text/plain": [
       "123787558.75"
      ]
     },
     "execution_count": 109,
     "metadata": {},
     "output_type": "execute_result"
    }
   ],
   "source": [
    "IQR = Q3-Q1\n",
    "IQR"
   ]
  },
  {
   "cell_type": "code",
   "execution_count": 110,
   "id": "234cbc71-672b-472e-97a9-8336e296ecd8",
   "metadata": {},
   "outputs": [
    {
     "name": "stdout",
     "output_type": "stream",
     "text": [
      "5818661.875 500968896.875\n"
     ]
    }
   ],
   "source": [
    "Lower_bound = Q1 - 1.5 *IQR\n",
    "Upper_bound = Q3 + 1.5 *IQR\n",
    "print(Lower_bound,Upper_bound) "
   ]
  },
  {
   "cell_type": "code",
   "execution_count": 111,
   "id": "1f7b2378-a5b6-4e42-9436-2325b136d1cf",
   "metadata": {},
   "outputs": [
    {
     "name": "stdout",
     "output_type": "stream",
     "text": [
      "[780000000, 579800000]\n"
     ]
    }
   ],
   "source": [
    "outliers = []\n",
    "for i in df[' Actual Gross']:\n",
    "    if i <Lower_bound or i > Upper_bound :\n",
    "        outliers.append(i)\n",
    "print(outliers)"
   ]
  },
  {
   "cell_type": "code",
   "execution_count": 128,
   "id": "8961d9a7-4a54-4a68-a525-2c765b8fe755",
   "metadata": {},
   "outputs": [],
   "source": [
    "# creating a function\n",
    "def detect_outliers_iqr(data):\n",
    "    Q1 = np.percentile(data, 25)\n",
    "    Q3 = np.percentile(data, 75)\n",
    "    IQR = Q3-Q1\n",
    "    Lower_bound = Q1 - 1.5 *IQR\n",
    "    Upper_bound = Q3 + 1.5 *IQR\n",
    "    outliers = []\n",
    "    for i in data:\n",
    "        if i <Lower_bound or i > Upper_bound :\n",
    "            outliers.append(i)\n",
    "    sns.boxplot(x=data)\n",
    "    plt.xlabel('Actual Gross')\n",
    "    plt.show()\n",
    "            \n",
    "   \n",
    "    return outliers\n",
    "    \n",
    "    \n"
   ]
  },
  {
   "cell_type": "code",
   "execution_count": 129,
   "id": "d4c11a00-10fe-49a2-bd61-7a8f1fef2781",
   "metadata": {},
   "outputs": [
    {
     "data": {
      "image/png": "[encoded data removed]",
      "text/plain": [
       "<Figure size 640x480 with 1 Axes>"
      ]
     },
     "metadata": {},
     "output_type": "display_data"
    },
    {
     "data": {
      "text/plain": [
       "[780000000, 579800000]"
      ]
     },
     "execution_count": 129,
     "metadata": {},
     "output_type": "execute_result"
    }
   ],
   "source": [
    "detect_outliers_iqr(df[' Actual Gross'])"
   ]
  },
  {
   "cell_type": "code",
   "execution_count": null,
   "id": "cd09c9a0-b105-483e-ba4c-8b0821dc7f09",
   "metadata": {},
   "outputs": [],
   "source": []
  }
 ],
 "metadata": {
  "kernelspec": {
   "display_name": "Python 3 (ipykernel)",
   "language": "python",
   "name": "python3"
  },
  "language_info": {
   "codemirror_mode": {
    "name": "ipython",
    "version": 3
   },
   "file_extension": ".py",
   "mimetype": "text/x-python",
   "name": "python",
   "nbconvert_exporter": "python",
   "pygments_lexer": "ipython3",
   "version": "3.11.7"
  }
 },
 "nbformat": 4,
 "nbformat_minor": 5
}
